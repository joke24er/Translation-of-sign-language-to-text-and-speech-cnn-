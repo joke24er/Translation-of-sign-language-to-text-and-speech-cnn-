{
  "nbformat": 4,
  "nbformat_minor": 0,
  "metadata": {
    "colab": {
      "name": "sign lang classification.ipynb",
      "provenance": [],
      "collapsed_sections": [
        "Z3OE9LdxyZWj",
        "YnI8cPJ5vg8y",
        "2LVszrGPyrCv",
        "17epC5Yh-8W8",
        "pRtNTxTVoOnz",
        "PBqpDDmsqxuR"
      ],
      "toc_visible": true,
      "machine_shape": "hm"
    },
    "kernelspec": {
      "name": "python3",
      "display_name": "Python 3"
    },
    "accelerator": "GPU"
  },
  "cells": [
    {
      "cell_type": "markdown",
      "metadata": {
        "id": "Z3OE9LdxyZWj",
        "colab_type": "text"
      },
      "source": [
        "### **misc**"
      ]
    },
    {
      "cell_type": "code",
      "metadata": {
        "id": "LsuK1-CrWEQS",
        "colab_type": "code",
        "colab": {}
      },
      "source": [
        "import cv2\n",
        "import tensorflow as tf\n",
        "\n",
        "z=0\n",
        "\n",
        "IMG_SIZE=200\n",
        "CATEGORIES = ['A','B','C','D','E','F','G','H','I','J','K','L','M','N','O','P','Q','R','S','T','U','V','W','X','Y','Z']\n",
        "\n",
        "z=0\n",
        "img_array=cv2.imread('/content/data/Train/B/B-1000.jpg',cv2.IMREAD_GRAYSCALE)\n",
        "new_array=cv2.resize(img_array,(IMG_SIZE,IMG_SIZE))\n",
        "k=new_array.reshape(-1,IMG_SIZE,IMG_SIZE,1)\n",
        "model=tf.keras.models.load_model(\"/content/naya.model\")\n",
        "prediction=model.predict([k])\n",
        "for i in range(0,26):\n",
        "    if (prediction[0][i]==1):\n",
        "        z=i\n",
        "\n",
        "print(CATEGORIES[z])"
      ],
      "execution_count": null,
      "outputs": []
    },
    {
      "cell_type": "code",
      "metadata": {
        "id": "GROH__sUJFQR",
        "colab_type": "code",
        "colab": {}
      },
      "source": [
        "from google.colab import files\n",
        "files.download('naya.model')"
      ],
      "execution_count": null,
      "outputs": []
    },
    {
      "cell_type": "code",
      "metadata": {
        "id": "OsErxWlFXHqo",
        "colab_type": "code",
        "colab": {}
      },
      "source": [
        "!pip install keras-tuner"
      ],
      "execution_count": null,
      "outputs": []
    },
    {
      "cell_type": "markdown",
      "metadata": {
        "id": "YnI8cPJ5vg8y",
        "colab_type": "text"
      },
      "source": [
        "### ***Keras tuner***"
      ]
    },
    {
      "cell_type": "code",
      "metadata": {
        "id": "P9nS6sr7yXie",
        "colab_type": "code",
        "colab": {}
      },
      "source": [
        "X=X/255.0"
      ],
      "execution_count": null,
      "outputs": []
    },
    {
      "cell_type": "code",
      "metadata": {
        "id": "8gu4jUWVzoHk",
        "colab_type": "code",
        "colab": {
          "base_uri": "https://localhost:8080/",
          "height": 34
        },
        "outputId": "a58e1b80-3d24-4766-c7bd-3bb795ff907c"
      },
      "source": [
        "X[0].shape"
      ],
      "execution_count": null,
      "outputs": [
        {
          "output_type": "execute_result",
          "data": {
            "text/plain": [
              "(200, 200, 1)"
            ]
          },
          "metadata": {
            "tags": []
          },
          "execution_count": 6
        }
      ]
    },
    {
      "cell_type": "code",
      "metadata": {
        "id": "CKkKy_CY0y4r",
        "colab_type": "code",
        "colab": {}
      },
      "source": [
        "X=X.reshape(-1,200,200,1)"
      ],
      "execution_count": null,
      "outputs": []
    },
    {
      "cell_type": "code",
      "metadata": {
        "id": "JwqMw7Mf1WYZ",
        "colab_type": "code",
        "colab": {}
      },
      "source": [
        "def build_model(hp):  \n",
        "  model = keras.Sequential([\n",
        "    keras.layers.Conv2D(\n",
        "        filters=hp.Int('conv_1_filter', min_value=32, max_value=128, step=16),\n",
        "        kernel_size=hp.Choice('conv_1_kernel', values = [3,5]),\n",
        "        activation='relu',\n",
        "        input_shape=(200,200,1)\n",
        "    ),\n",
        "    keras.layers.Conv2D(\n",
        "        filters=hp.Int('conv_2_filter', min_value=32, max_value=64, step=16),\n",
        "        kernel_size=hp.Choice('conv_2_kernel', values = [3,5]),\n",
        "        activation='relu'\n",
        "    ),\n",
        "    keras.layers.Dropout(0.5),\n",
        "    keras.layers.Flatten(),\n",
        "    keras.layers.Dense(\n",
        "        units=hp.Int('dense_1_units', min_value=32, max_value=128, step=16),\n",
        "        activation='relu'\n",
        "    ),\n",
        "     keras.layers.Dropout(0.5),\n",
        "    keras.layers.Dense(25, activation='softmax')\n",
        "  ])\n",
        "  \n",
        "  model.compile(optimizer=keras.optimizers.Adam(hp.Choice('learning_rate', values=[1e-2, 1e-3])),\n",
        "              loss='sparse_categorical_crossentropy',\n",
        "              metrics=['accuracy'])\n",
        "  \n",
        "  return model"
      ],
      "execution_count": null,
      "outputs": []
    },
    {
      "cell_type": "code",
      "metadata": {
        "id": "lbWwuHBk1eFZ",
        "colab_type": "code",
        "colab": {}
      },
      "source": [
        "from kerastuner import RandomSearch\n",
        "from kerastuner.engine.hyperparameters import HyperParameters"
      ],
      "execution_count": null,
      "outputs": []
    },
    {
      "cell_type": "code",
      "metadata": {
        "id": "KyH9LZUG1pjg",
        "colab_type": "code",
        "colab": {}
      },
      "source": [
        "tuner_search=RandomSearch(build_model,\n",
        "                          objective='val_acc',\n",
        "                          max_trials=5,directory='output',project_name=\"f\")"
      ],
      "execution_count": null,
      "outputs": []
    },
    {
      "cell_type": "code",
      "metadata": {
        "id": "7Tnxy0S41yoY",
        "colab_type": "code",
        "colab": {}
      },
      "source": [
        "tuner_search.search(X,y,epochs=3,validation_split=0.1)"
      ],
      "execution_count": null,
      "outputs": []
    },
    {
      "cell_type": "code",
      "metadata": {
        "id": "zes7cVJH1p0M",
        "colab_type": "code",
        "colab": {}
      },
      "source": [
        "model=tuner_search.get_best_models(num_models=1)[0]\n",
        "model.summary()\n",
        "model.fit(X, y, epochs=10, validation_split=0.1, initial_epoch=3)\n",
        "fname = \"weights-Test-CNN.hdf5\"\n",
        "model.save_weights(fname,overwrite=True)\n",
        "\n",
        "\n",
        "\n",
        "# Loading weights\n",
        "\n",
        "fname = \"weights-Test-CNN.hdf5\"\n",
        "model.load_weights(fname)\n",
        "model.save('ekaur.model')\n",
        "\n"
      ],
      "execution_count": null,
      "outputs": []
    },
    {
      "cell_type": "markdown",
      "metadata": {
        "id": "UAC-Me02vwm-",
        "colab_type": "text"
      },
      "source": [
        ""
      ]
    },
    {
      "cell_type": "code",
      "metadata": {
        "id": "W7AhL9rv3HFH",
        "colab_type": "code",
        "colab": {}
      },
      "source": [
        "import os\n",
        "import numpy as np\n",
        "import matplotlib.pyplot as plt\n",
        "\n",
        "plt.plot(model.history.history['acc'])\n",
        "plt.plot(model.history.history['val_acc'])\n",
        "plt.title('model accuracy')\n",
        "plt.ylabel('accuracy')\n",
        "plt.xlabel('epoch')\n",
        "plt.legend(['train', 'test'], loc='upper left')\n",
        "plt.show()\n",
        "# summarize history for loss\n",
        "plt.plot(model.history.history['loss'])\n",
        "plt.plot(model.history.history['val_loss'])\n",
        "plt.title('model loss')\n",
        "plt.ylabel('loss')\n",
        "plt.xlabel('epoch')\n",
        "plt.legend(['train', 'test'], loc='upper left')\n",
        "plt.show()\n"
      ],
      "execution_count": null,
      "outputs": []
    },
    {
      "cell_type": "markdown",
      "metadata": {
        "id": "B7Z-3j52IrFY",
        "colab_type": "text"
      },
      "source": [
        "# Main stuff starts here"
      ]
    },
    {
      "cell_type": "markdown",
      "metadata": {
        "id": "vZjeQNHRvx2t",
        "colab_type": "text"
      },
      "source": [
        "### ***Utilities***"
      ]
    },
    {
      "cell_type": "code",
      "metadata": {
        "id": "SLR1JhxV3I0x",
        "colab_type": "code",
        "colab": {}
      },
      "source": [
        "!unzip -q \"directory location of dataset\""
      ],
      "execution_count": null,
      "outputs": []
    },
    {
      "cell_type": "code",
      "metadata": {
        "id": "SsLKhRae209c",
        "colab_type": "code",
        "colab": {}
      },
      "source": [
        "#if the dataset is stored in drive\n",
        "from google.colab import drive\n",
        "drive.mount('/content/drive')"
      ],
      "execution_count": null,
      "outputs": []
    },
    {
      "cell_type": "code",
      "metadata": {
        "id": "okZaMsmRy1ry",
        "colab_type": "code",
        "colab": {}
      },
      "source": [
        "'''at the time I was struggling with the training of custom dataset so i employed conversion\n",
        "of the image into numpy arrays but a better way to deal with this is to use keras ImageDataGenerator and \n",
        "flow from directory for scaling and importing a custon dataset seen in Yellow models'''\n",
        "\n",
        "\n",
        "import numpy as np\n",
        "import os\n",
        "#from matplotlib import pyplot as plt\n",
        "import cv2\n",
        "import random\n",
        "import pickle\n",
        "\n",
        "\n",
        "file_list = []\n",
        "class_list = []\n",
        "\n",
        "DATADIR = \"/content/data2/train\"\n",
        "\n",
        "# All the categories you want your neural network to detect\n",
        "CATEGORIES = ['aboard','all_gone','baby','beside','book','bowl','bridge','camp','cartridge',\n",
        "              'eight','five','fond','four','friend','glove','hang','high','house','how_many',\n",
        "              'loeMe','man','marry','meat','medal','opposite']\n",
        "# The size of the images that your neural network will use\n",
        "IMG_SIZE = 200\n",
        "\n",
        "# Checking or all images in the data folder\n",
        "for category in CATEGORIES :\n",
        "\tpath = os.path.join(DATADIR, category)\n",
        "\tfor img in os.listdir(path):\n",
        "\t\timg_array = cv2.imread(os.path.join(path, img),cv2.IMREAD_GRAYSCALE)\n",
        "\n",
        "training_data = []\n",
        "\n",
        "def create_training_data():\n",
        "\tfor category in CATEGORIES :\n",
        "\t\tpath = os.path.join(DATADIR, category)\n",
        "\t\tclass_num = CATEGORIES.index(category)\n",
        "\t\tfor img in os.listdir(path):\n",
        "\t\t\ttry :\n",
        "\t\t\t\timg_array = cv2.imread(os.path.join(path, img),cv2.IMREAD_GRAYSCALE)\n",
        "\t\t\t\tnew_array = cv2.resize(img_array, (IMG_SIZE, IMG_SIZE))\n",
        "\t\t\t\ttraining_data.append([new_array, class_num])\n",
        "\t\t\texcept Exception as e:\n",
        "\t\t\t\tpass\n",
        "\n",
        "create_training_data()\n",
        "\n",
        "random.shuffle(training_data)\n",
        "\n",
        "X = [] #features\n",
        "y = [] #labels\n",
        "\n",
        "for features, label in training_data:\n",
        "\tX.append(features)\n",
        "\ty.append(label)\n",
        "\n",
        "X = np.array(X).reshape(-1, IMG_SIZE, IMG_SIZE, 1)\n",
        "\n",
        "\n",
        "np.save('X.npy', X)\n",
        "np.save('y.npy',y)"
      ],
      "execution_count": null,
      "outputs": []
    },
    {
      "cell_type": "markdown",
      "metadata": {
        "id": "2LVszrGPyrCv",
        "colab_type": "text"
      },
      "source": [
        "### **Gray1**"
      ]
    },
    {
      "cell_type": "code",
      "metadata": {
        "id": "PgnOl16y17xY",
        "colab_type": "code",
        "colab": {}
      },
      "source": [
        "#increasing RAM size ;-)\n",
        "a = []\n",
        "while(1):\n",
        "    a.append('1')"
      ],
      "execution_count": null,
      "outputs": []
    },
    {
      "cell_type": "code",
      "metadata": {
        "id": "bGqiuKwlmSq_",
        "colab_type": "code",
        "colab": {}
      },
      "source": [
        "##Use dataset importing technique used in colour1 and color 2 and avoid np.load since it is heavy on the ram\n",
        "\n",
        "import tensorflow as tf\n",
        "import numpy as np\n",
        "import pickle\n",
        "from tensorflow import keras\n",
        "import numpy as np\n",
        "from tensorflow.keras.models import Sequential\n",
        "from tensorflow.keras.layers import Dense, Conv2D, Flatten, Dropout, MaxPooling2D\n",
        "from tensorflow.keras.preprocessing.image import ImageDataGenerator\n",
        "\n",
        "#X = pickle.load(open(\"X.pickle\", \"rb\"))\n",
        "#y = pickle.load(open(\"y.pickle\", \"rb\"))\n",
        "X = np.load('/content/drive/My Drive/X.npy')\n",
        "X = X/255.0\n",
        "y=np.load('/content/drive/My Drive/y.npy')\n",
        "model = Sequential() \n",
        "\n",
        "model.add(Conv2D(64, (3, 3), activation='relu', input_shape=(200,200,1)))\n",
        "model.add(MaxPooling2D(pool_size=(2, 2)))\n",
        "model.add(Conv2D(128, (5, 5), activation='relu'))\n",
        "model.add(MaxPooling2D(pool_size=(2, 2)))\n",
        "model.add(Conv2D(64, (3, 3), activation='relu'))\n",
        "model.add(MaxPooling2D(pool_size=(2, 2)))\n",
        "model.add(Flatten())\n",
        "model.add(Dropout(0.5))\n",
        "model.add(Dense(80, activation='relu'))\n",
        "model.add(Dropout(0.5))\n",
        "model.add(Dense(25, activation='softmax'))\n",
        "\n",
        "model.compile(optimizer='adam',\n",
        "              loss='sparse_categorical_crossentropy',\n",
        "              metrics=['accuracy'])\n",
        "\n",
        "\n",
        "\n",
        "\n",
        "\n",
        "model.summary()\n",
        "\n",
        "history = model.fit(X, y, batch_size=64, epochs=10,verbose=1, validation_split=0.20)\n",
        "\n",
        "model.save('gray1.model')\n",
        "\n",
        "\n",
        "from tensorflow.keras.utils import plot_model\n",
        "plot_model(model, to_file='model1.png',show_shapes=True)\n",
        "\n",
        "\n",
        "\n",
        "\n",
        "\n",
        "\n",
        "\n",
        "\n"
      ],
      "execution_count": null,
      "outputs": []
    },
    {
      "cell_type": "markdown",
      "metadata": {
        "id": "evJS2xMrJ2E9",
        "colab_type": "text"
      },
      "source": [
        "Visualising layer outputs"
      ]
    },
    {
      "cell_type": "code",
      "metadata": {
        "id": "QMQ_0pARw1jZ",
        "colab_type": "code",
        "colab": {}
      },
      "source": [
        "from tensorflow.keras.models import load_model\n",
        "import tensorflow as tf\n",
        "import matplotlib.pyplot as plt\n",
        "import cv2\n",
        "model = load_model('/content/drive/My Drive/gray1.model')\n",
        "model.summary()\n",
        "from tensorflow.keras.preprocessing import image\n",
        "import numpy as np\n",
        "IMG_SIZE=200\n",
        "img_array=cv2.imread(\"/content/data2/test/five/five.1000.jpg\")\n",
        "img_hsv = cv2.cvtColor(img_array, cv2.COLOR_BGR2HSV)\n",
        "\n",
        "lower_red = np.array([20, 100, 100])\n",
        "upper_red = np.array([30, 255, 255])\n",
        "\n",
        "mask = cv2.inRange(img_hsv, lower_red, upper_red)\n",
        "\n",
        "res = cv2.bitwise_and(img_array, img_array, mask=mask)\n",
        "gray = cv2.cvtColor(res, cv2.COLOR_BGR2GRAY)\n",
        "new_array=cv2.resize(gray,(200,200))\n",
        "k=new_array.reshape(-1,IMG_SIZE,IMG_SIZE,1)\n",
        "from keras import models\n",
        "layer_outputs = [layer.output for layer in model.layers[:8]]\n",
        "activation_model = tf.keras.models.Model(inputs = model.input, outputs = layer_outputs )\n",
        "activations = activation_model.predict(k)\n",
        "layer_names = []\n",
        "for layer in model.layers[:8]:\n",
        "  layer_names.append(layer.name)\n",
        "images_per_row = 16\n",
        "for layer_name, layer_activation in zip(layer_names, activations):\n",
        "  n_features = layer_activation.shape[-1]\n",
        "  size = layer_activation.shape[1]\n",
        "  n_cols = n_features // images_per_row\n",
        "  display_grid = np.zeros((size * n_cols, images_per_row * size))\n",
        "  for col in range(n_cols):\n",
        "    for row in range(images_per_row):\n",
        "      channel_image = layer_activation[0,\n",
        "      :, :,\n",
        "      col * images_per_row + row]\n",
        "      channel_image -= channel_image.mean()\n",
        "      channel_image /= channel_image.std()\n",
        "      channel_image *= 64\n",
        "      channel_image += 128\n",
        "      channel_image = np.clip(channel_image, 0, 255).astype('uint8')\n",
        "      display_grid[col * size : (col + 1) * size,\n",
        "      row * size : (row + 1) * size] = channel_image\n",
        "    scale = 1. / size\n",
        "    plt.figure(figsize=(scale * display_grid.shape[1],\n",
        "    scale * display_grid.shape[0]))\n",
        "    plt.title(layer_name)\n",
        "    plt.grid(False)\n",
        "    plt.imshow(display_grid, aspect='auto', cmap='viridis')\n",
        "    plt.savefig(layer_name + '.png')\n"
      ],
      "execution_count": null,
      "outputs": []
    },
    {
      "cell_type": "markdown",
      "metadata": {
        "id": "N6lUvjW68Sf8",
        "colab_type": "text"
      },
      "source": [
        "time: 4min38sec"
      ]
    },
    {
      "cell_type": "code",
      "metadata": {
        "id": "2SeNAL_-v19u",
        "colab_type": "code",
        "colab": {
          "base_uri": "https://localhost:8080/",
          "height": 573
        },
        "outputId": "c03fdf8e-cefd-474a-83a4-8b19fb48985a"
      },
      "source": [
        "#signs of overfitting can be seen\n",
        "\n",
        "\n",
        "import os\n",
        "import numpy as np\n",
        "import matplotlib.pyplot as plt\n",
        "\n",
        "plt.plot(model.history.history['acc'])\n",
        "plt.plot(model.history.history['val_acc'])\n",
        "plt.title('model accuracy')\n",
        "plt.ylabel('accuracy')\n",
        "plt.xlabel('epoch')\n",
        "plt.legend(['train', 'test'], loc='upper left')\n",
        "plt.show()\n",
        "# summarize history for loss\n",
        "plt.plot(model.history.history['loss'])\n",
        "plt.plot(model.history.history['val_loss'])\n",
        "plt.title('model loss')\n",
        "plt.ylabel('loss')\n",
        "plt.xlabel('epoch')\n",
        "plt.legend(['train', 'test'], loc='upper left')\n",
        "plt.show()"
      ],
      "execution_count": null,
      "outputs": [
        {
          "output_type": "display_data",
          "data": {
            "image/png": "[encoded data removed]",
            "text/plain": [
              "<Figure size 432x288 with 1 Axes>"
            ]
          },
          "metadata": {
            "tags": []
          }
        },
        {
          "output_type": "display_data",
          "data": {
            "image/png": "[encoded data removed]",
            "text/plain": [
              "<Figure size 432x288 with 1 Axes>"
            ]
          },
          "metadata": {
            "tags": []
          }
        }
      ]
    },
    {
      "cell_type": "code",
      "metadata": {
        "id": "W9vqYiqRohh1",
        "colab_type": "code",
        "colab": {
          "base_uri": "https://localhost:8080/",
          "height": 34
        },
        "outputId": "a14c45be-82a1-4d28-905b-cbe790c0aef5"
      },
      "source": [
        "import numpy\n",
        "X_test= np.load('/content/drive/My Drive/X_test.npy')\n",
        "X_test = X_test/255.0\n",
        "y_test=np.load('/content/drive/My Drive/y_test.npy')\n",
        "scores = model.evaluate(X_test, y_test, verbose=0)\n",
        "print(\"%s: %.2f%%\" % (model.metrics_names[1], scores[1]*100))\n"
      ],
      "execution_count": null,
      "outputs": [
        {
          "output_type": "stream",
          "text": [
            "acc: 97.22%\n"
          ],
          "name": "stdout"
        }
      ]
    },
    {
      "cell_type": "markdown",
      "metadata": {
        "id": "17epC5Yh-8W8",
        "colab_type": "text"
      },
      "source": [
        "### **Gray2**"
      ]
    },
    {
      "cell_type": "code",
      "metadata": {
        "id": "CyUd7Rwz-9cm",
        "colab_type": "code",
        "colab": {}
      },
      "source": [
        "##Use dataset importing technique used in colour1 and color 2 and avoid np.load since it is heavy on the ram\n",
        "\n",
        "\n",
        "import tensorflow as tf\n",
        "import numpy as np\n",
        "import pickle\n",
        "from tensorflow import keras\n",
        "import numpy as np\n",
        "from tensorflow.keras.models import Sequential\n",
        "from tensorflow.keras.layers import Dense, Conv2D, Flatten, Dropout, MaxPooling2D\n",
        "from tensorflow.keras.preprocessing.image import ImageDataGenerator\n",
        "\n",
        "#X = pickle.load(open(\"X.pickle\", \"rb\"))\n",
        "#y = pickle.load(open(\"y.pickle\", \"rb\"))\n",
        "X = np.load('/content/drive/My Drive/X.npy')\n",
        "X = X/255.0\n",
        "y=np.load('/content/drive/My Drive/y.npy')\n",
        "model = Sequential()\n",
        "\n",
        "# 1st Convolutional Layer\n",
        "model.add(Conv2D(filters=96, input_shape=(200,200,1), kernel_size=(11,11), strides=(4,4), padding=\"valid\", activation = \"relu\"))\n",
        "\n",
        "# Max Pooling\n",
        "model.add(MaxPooling2D(pool_size=(3,3), strides=(2,2), padding=\"valid\"))\n",
        "\n",
        "# 2nd Convolutional Layer\n",
        "model.add(Conv2D(filters=256, kernel_size=(5,5), strides=(1,1), padding=\"same\", activation = \"relu\"))\n",
        "\n",
        "# Max Pooling\n",
        "model.add(MaxPooling2D(pool_size=(3,3), strides=(2,2), padding=\"valid\"))\n",
        "\n",
        "# 3rd Convolutional Layer\n",
        "model.add(Conv2D(filters=384, kernel_size=(3,3), strides=(1,1), padding=\"same\", activation = \"relu\"))\n",
        "\n",
        "# 4th Convolutional Layer\n",
        "model.add(Conv2D(filters=384, kernel_size=(3,3), strides=(1,1), padding=\"same\", activation = \"relu\"))\n",
        "\n",
        "# 5th Convolutional Layer\n",
        "model.add(Conv2D(filters=256, kernel_size=(3,3), strides=(1,1), padding=\"same\", activation = \"relu\"))\n",
        "\n",
        "# Max Pooling\n",
        "model.add(MaxPooling2D(pool_size=(3,3), strides=(2,2), padding=\"valid\"))\n",
        "\n",
        "model.add(Dropout(0.5))\n",
        "\n",
        "# Passing it to a Fully Connected layer\n",
        "model.add(Flatten())\n",
        "# 1st Fully Connected Layer\n",
        "model.add(Dense(units = 9216, activation = \"relu\"))\n",
        "\n",
        "\n",
        "\n",
        "# 2nd Fully Connected Layer\n",
        "model.add(Dense(units = 4096, activation = \"relu\"))\n",
        "\n",
        "\n",
        "# 3rd Fully Connected Layer\n",
        "model.add(Dense(4096, activation = \"relu\"))\n",
        "\n",
        "\n",
        "\n",
        "# Output Layer\n",
        "model.add(Dense(25, activation = \"softmax\")) #As we have two classes\n",
        "\n",
        "model.compile(optimizer='adam',\n",
        "              loss='sparse_categorical_crossentropy',\n",
        "              metrics=['accuracy'])\n",
        "\n",
        "\n",
        "\n",
        "model.summary()\n",
        "\n",
        "history = model.fit(X, y, batch_size=64, epochs=10,verbose=1, validation_split=0.20)\n",
        "\n",
        "\n",
        "model.save('gray1.model')\n"
      ],
      "execution_count": null,
      "outputs": []
    },
    {
      "cell_type": "markdown",
      "metadata": {
        "id": "TAjE5AOgBELs",
        "colab_type": "text"
      },
      "source": [
        "4min50sec"
      ]
    },
    {
      "cell_type": "code",
      "metadata": {
        "id": "RnI_FKcC_ySN",
        "colab_type": "code",
        "colab": {
          "base_uri": "https://localhost:8080/",
          "height": 573
        },
        "outputId": "589a3e7c-b077-4a94-afde-63cebfa5982a"
      },
      "source": [
        "#signs of overfitting\n",
        "\n",
        "import os\n",
        "import numpy as np\n",
        "import matplotlib.pyplot as plt\n",
        "\n",
        "plt.plot(model.history.history['acc'])\n",
        "plt.plot(model.history.history['val_acc'])\n",
        "plt.title('model accuracy')\n",
        "plt.ylabel('accuracy')\n",
        "plt.xlabel('epoch')\n",
        "plt.legend(['train', 'test'], loc='upper left')\n",
        "plt.show()\n",
        "# summarize history for loss\n",
        "plt.plot(model.history.history['loss'])\n",
        "plt.plot(model.history.history['val_loss'])\n",
        "plt.title('model loss')\n",
        "plt.ylabel('loss')\n",
        "plt.xlabel('epoch')\n",
        "plt.legend(['train', 'test'], loc='upper left')\n",
        "plt.show()"
      ],
      "execution_count": null,
      "outputs": [
        {
          "output_type": "display_data",
          "data": {
            "image/png": "[encoded data removed]",
            "text/plain": [
              "<Figure size 432x288 with 1 Axes>"
            ]
          },
          "metadata": {
            "tags": []
          }
        },
        {
          "output_type": "display_data",
          "data": {
            "image/png": "[encoded data removed]",
            "text/plain": [
              "<Figure size 432x288 with 1 Axes>"
            ]
          },
          "metadata": {
            "tags": []
          }
        }
      ]
    },
    {
      "cell_type": "code",
      "metadata": {
        "id": "Zn-IC3AtAxtX",
        "colab_type": "code",
        "colab": {
          "base_uri": "https://localhost:8080/",
          "height": 34
        },
        "outputId": "d022d0ac-82da-40ff-8a8b-b6e219168635"
      },
      "source": [
        "import numpy\n",
        "X_test= np.load('/content/drive/My Drive/X_test.npy')\n",
        "X_test = X_test/255.0\n",
        "y_test=np.load('/content/drive/My Drive/y_test.npy')\n",
        "scores = model.evaluate(X_test, y_test, verbose=0)\n",
        "print(\"%s: %.2f%%\" % (model.metrics_names[1], scores[1]*100))"
      ],
      "execution_count": null,
      "outputs": [
        {
          "output_type": "stream",
          "text": [
            "acc: 99.22%\n"
          ],
          "name": "stdout"
        }
      ]
    },
    {
      "cell_type": "markdown",
      "metadata": {
        "id": "pRtNTxTVoOnz",
        "colab_type": "text"
      },
      "source": [
        "### ***Colour 1***"
      ]
    },
    {
      "cell_type": "code",
      "metadata": {
        "id": "VOGE2hP9RG5F",
        "colab_type": "code",
        "colab": {}
      },
      "source": [
        "import tensorflow as tf\n",
        "from tensorflow.keras.models import Sequential\n",
        "from tensorflow.keras.layers import Dense, Conv2D, Flatten, Dropout, MaxPooling2D\n",
        "from tensorflow.keras.preprocessing.image import ImageDataGenerator\n",
        "\n",
        "from tensorflow.keras.optimizers import Adam\n",
        "\n",
        "import os\n",
        "import numpy as np\n",
        "import matplotlib.pyplot as plt\n",
        "\n",
        "data_root='/content/data2/train'\n",
        "IMAGE_SHAPE = (200, 200)\n",
        "TRAINING_DATA_DIR = str(data_root)\n",
        "print(TRAINING_DATA_DIR);\n",
        "datagen_kwargs = dict(rescale=1./255, validation_split=.20)\n",
        "valid_datagen = tf.keras.preprocessing.image.ImageDataGenerator(**datagen_kwargs)\n",
        "valid_generator = valid_datagen.flow_from_directory(\n",
        "TRAINING_DATA_DIR,\n",
        "subset=\"validation\",\n",
        "shuffle=True,\n",
        "target_size=IMAGE_SHAPE,\n",
        "class_mode='binary'\n",
        ")\n",
        "train_datagen = tf.keras.preprocessing.image.ImageDataGenerator(**datagen_kwargs)\n",
        "train_generator = train_datagen.flow_from_directory(\n",
        "TRAINING_DATA_DIR,\n",
        "subset=\"training\",\n",
        "shuffle=True,\n",
        "target_size=IMAGE_SHAPE,\n",
        "class_mode='binary')\n",
        "\n",
        "\n",
        "\n",
        "model = Sequential()\n",
        "model.add(Conv2D(64, (3, 3), activation='relu', input_shape=(200,200,3)))\n",
        "model.add(MaxPooling2D(pool_size=(2, 2)))\n",
        "model.add(Conv2D(128, (5, 5), activation='relu'))\n",
        "model.add(MaxPooling2D(pool_size=(2, 2)))\n",
        "model.add(Conv2D(64, (3, 3), activation='relu'))\n",
        "model.add(MaxPooling2D(pool_size=(2, 2)))\n",
        "model.add(Flatten())\n",
        "model.add(Dropout(0.5))\n",
        "model.add(Dense(80, activation='relu'))\n",
        "model.add(Dropout(0.5))\n",
        "model.add(Dense(25, activation='softmax'))\n",
        "\n",
        "\n",
        "\n",
        "\n",
        "model.summary()\n",
        "model.compile(optimizer='adam',\n",
        "              loss='sparse_categorical_crossentropy',\n",
        "              metrics=['accuracy'])\n",
        "\n",
        "steps_per_epoch = np.ceil(train_generator.samples/train_generator.batch_size)\n",
        "val = np.ceil(valid_generator.samples/valid_generator.batch_size)\n",
        "history = model.fit(\n",
        "    train_generator,\n",
        "    steps_per_epoch=steps_per_epoch,\n",
        "    epochs=10,\n",
        "\n",
        "    validation_data=valid_generator,\n",
        "    validation_steps=val\n",
        ").history\n",
        "\n",
        "model.save('yellow1.model')\n"
      ],
      "execution_count": null,
      "outputs": []
    },
    {
      "cell_type": "markdown",
      "metadata": {
        "id": "2y8EVJeDmrBo",
        "colab_type": "text"
      },
      "source": [
        "time:7min49secs for 5 epochs\n",
        "\n",
        "time:15min19secs for 10 epochs\n"
      ]
    },
    {
      "cell_type": "code",
      "metadata": {
        "id": "S6B3w8GrVjrp",
        "colab_type": "code",
        "colab": {}
      },
      "source": [
        "data_root='/content/data2/test'\n",
        "IMAGE_SHAPE = (200, 200)\n",
        "TRAINING_DATA_DIR = str(data_root)\n",
        "\n",
        "train_datagen = tf.keras.preprocessing.image.ImageDataGenerator()\n",
        "val_data_gen = train_datagen.flow_from_directory(\n",
        "TRAINING_DATA_DIR,\n",
        "shuffle=True,\n",
        "target_size=IMAGE_SHAPE,\n",
        "class_mode='binary')\n",
        "scores = model.evaluate_generator(val_data_gen,100) #1514 testing images\n",
        "print(\"Accuracy = \", scores[1])"
      ],
      "execution_count": null,
      "outputs": []
    },
    {
      "cell_type": "markdown",
      "metadata": {
        "id": "CCgRw-81-KhN",
        "colab_type": "text"
      },
      "source": [
        "acc: 96.65"
      ]
    },
    {
      "cell_type": "code",
      "metadata": {
        "id": "JN2q2GStbW17",
        "colab_type": "code",
        "colab": {
          "base_uri": "https://localhost:8080/",
          "height": 34
        },
        "outputId": "ccddceb2-0e65-4dd2-fade-e896efd8128d"
      },
      "source": [
        "import cv2\n",
        "import tensorflow as tf\n",
        "import numpy as np\n",
        "\n",
        "\n",
        "CATEGORIES = ['aboard','all_gone','baby','beside','book','bowl','bridge','camp','cartridge',\n",
        "              'eight','five','fond','four','friend','glove','hang','high','house','how_many',\n",
        "              'loeMe','man','marry','meat','medal','opposite']\n",
        "\n",
        "z=0\n",
        "key = ord('e')\n",
        "IMG_SIZE=200\n",
        "img_array=cv2.imread('/content/data2/test/hang/hang.1101.jpg')\n",
        "img_hsv = cv2.cvtColor(img_array, cv2.COLOR_BGR2HSV)\n",
        "\n",
        "lower_red = np.array([20, 100, 100])\n",
        "upper_red = np.array([30, 255, 255])\n",
        "\n",
        "mask = cv2.inRange(img_hsv, lower_red, upper_red)\n",
        "\n",
        "res = cv2.bitwise_and(img_array, img_array, mask=mask)\n",
        "gray = cv2.cvtColor(res, cv2.COLOR_BGR2GRAY)\n",
        "new_array=cv2.resize(res,(200,200))\n",
        "k=new_array.reshape(-1,IMG_SIZE,IMG_SIZE,3)\n",
        "#model=tf.keras.models.load_model(\"F:\\\\datasets\\\\naya (2) (2).model\")\n",
        "model=tf.keras.models.load_model(\"/content/yellow1.model\")\n",
        "prediction=model.predict([k])\n",
        "for i in range(0,25):\n",
        "    if (prediction[0][i]==1):\n",
        "        z=i\n",
        "\n",
        "\n",
        "print(CATEGORIES[z])"
      ],
      "execution_count": null,
      "outputs": [
        {
          "output_type": "stream",
          "text": [
            "hang\n"
          ],
          "name": "stdout"
        }
      ]
    },
    {
      "cell_type": "code",
      "metadata": {
        "id": "yW7PVSJh6Y_S",
        "colab_type": "code",
        "colab": {
          "base_uri": "https://localhost:8080/",
          "height": 573
        },
        "outputId": "b96811d7-077d-4c20-dd1b-49e2e86ab4ac"
      },
      "source": [
        "import os\n",
        "import numpy as np\n",
        "import matplotlib.pyplot as plt\n",
        "\n",
        "plt.plot(model.history.history['acc'])\n",
        "plt.plot(model.history.history['val_acc'])\n",
        "plt.title('model accuracy')\n",
        "plt.ylabel('accuracy')\n",
        "plt.xlabel('epoch')\n",
        "plt.legend(['train', 'test'], loc='upper left')\n",
        "plt.show()\n",
        "# summarize history for loss\n",
        "plt.plot(model.history.history['loss'])\n",
        "plt.plot(model.history.history['val_loss'])\n",
        "plt.title('model loss')\n",
        "plt.ylabel('loss')\n",
        "plt.xlabel('epoch')\n",
        "plt.legend(['train', 'test'], loc='upper left')\n",
        "plt.show()"
      ],
      "execution_count": null,
      "outputs": [
        {
          "output_type": "display_data",
          "data": {
            "image/png": "[encoded data removed]",
            "text/plain": [
              "<Figure size 432x288 with 1 Axes>"
            ]
          },
          "metadata": {
            "tags": []
          }
        },
        {
          "output_type": "display_data",
          "data": {
            "image/png": "[encoded data removed]",
            "text/plain": [
              "<Figure size 432x288 with 1 Axes>"
            ]
          },
          "metadata": {
            "tags": []
          }
        }
      ]
    },
    {
      "cell_type": "markdown",
      "metadata": {
        "id": "PBqpDDmsqxuR",
        "colab_type": "text"
      },
      "source": [
        "### **Colour2**"
      ]
    },
    {
      "cell_type": "code",
      "metadata": {
        "id": "-mTyeW7WrH48",
        "colab_type": "code",
        "colab": {
          "base_uri": "https://localhost:8080/",
          "height": 894
        },
        "outputId": "8fca6d64-6b82-471f-8501-be01149fc14f"
      },
      "source": [
        "import tensorflow as tf\n",
        "from tensorflow.keras.models import Sequential\n",
        "from tensorflow.keras.layers import Dense, Conv2D, Flatten, Dropout, MaxPooling2D\n",
        "from tensorflow.keras.preprocessing.image import ImageDataGenerator\n",
        "\n",
        "from tensorflow.keras.optimizers import Adam\n",
        "\n",
        "import os\n",
        "import numpy as np\n",
        "import matplotlib.pyplot as plt\n",
        "\n",
        "data_root='/content/data2/train'\n",
        "IMAGE_SHAPE = (227, 227)\n",
        "TRAINING_DATA_DIR = str(data_root)\n",
        "print(TRAINING_DATA_DIR);\n",
        "datagen_kwargs = dict(rescale=1./255, validation_split=.20)\n",
        "valid_datagen = tf.keras.preprocessing.image.ImageDataGenerator(**datagen_kwargs)\n",
        "valid_generator = valid_datagen.flow_from_directory(\n",
        "TRAINING_DATA_DIR,\n",
        "subset=\"validation\",\n",
        "shuffle=True,\n",
        "target_size=IMAGE_SHAPE,\n",
        "class_mode='binary'\n",
        ")\n",
        "train_datagen = tf.keras.preprocessing.image.ImageDataGenerator(**datagen_kwargs)\n",
        "train_generator = train_datagen.flow_from_directory(\n",
        "TRAINING_DATA_DIR,\n",
        "subset=\"training\",\n",
        "shuffle=True,\n",
        "target_size=IMAGE_SHAPE,\n",
        "class_mode='binary')\n",
        "\n",
        "\n",
        "\n",
        "model = Sequential()\n",
        "\n",
        "# 1st Convolutional Layer\n",
        "model.add(Conv2D(filters=96, input_shape=(227,227,3), kernel_size=(11,11), strides=(4,4), padding=\"valid\", activation = \"relu\"))\n",
        "\n",
        "# Max Pooling\n",
        "model.add(MaxPooling2D(pool_size=(3,3), strides=(2,2), padding=\"valid\"))\n",
        "\n",
        "# 2nd Convolutional Layer\n",
        "model.add(Conv2D(filters=256, kernel_size=(5,5), strides=(1,1), padding=\"same\", activation = \"relu\"))\n",
        "\n",
        "# Max Pooling\n",
        "model.add(MaxPooling2D(pool_size=(3,3), strides=(2,2), padding=\"valid\"))\n",
        "\n",
        "# 3rd Convolutional Layer\n",
        "model.add(Conv2D(filters=384, kernel_size=(3,3), strides=(1,1), padding=\"same\", activation = \"relu\"))\n",
        "\n",
        "# 4th Convolutional Layer\n",
        "model.add(Conv2D(filters=384, kernel_size=(3,3), strides=(1,1), padding=\"same\", activation = \"relu\"))\n",
        "\n",
        "# 5th Convolutional Layer\n",
        "model.add(Conv2D(filters=256, kernel_size=(3,3), strides=(1,1), padding=\"same\", activation = \"relu\"))\n",
        "\n",
        "# Max Pooling\n",
        "model.add(MaxPooling2D(pool_size=(3,3), strides=(2,2), padding=\"valid\"))\n",
        "\n",
        "# Passing it to a Fully Connected layer\n",
        "model.add(Flatten())\n",
        "# 1st Fully Connected Layer\n",
        "model.add(Dense(units = 9216, activation = \"relu\"))\n",
        "\n",
        "# 2nd Fully Connected Layer\n",
        "model.add(Dense(units = 4096, activation = \"relu\"))\n",
        "\n",
        "# 3rd Fully Connected Layer\n",
        "model.add(Dense(4096, activation = \"relu\"))\n",
        "\n",
        "# Output Layer\n",
        "model.add(Dense(25, activation = \"softmax\")) #As we have two classes\n",
        "\n",
        "opt = Adam(lr=0.001)\n",
        "model.compile(optimizer=opt, loss='sparse_categorical_crossentropy', metrics=['accuracy'])\n",
        "\n",
        "\n",
        "\n",
        "\n",
        "\n",
        "model.summary()\n",
        "model.compile(optimizer='adam',\n",
        "              loss='sparse_categorical_crossentropy',\n",
        "              metrics=['accuracy'])\n",
        "\n",
        "steps_per_epoch = np.ceil(train_generator.samples/train_generator.batch_size)\n",
        "val = np.ceil(valid_generator.samples/valid_generator.batch_size)\n",
        "history = model.fit(\n",
        "    train_generator,\n",
        "    steps_per_epoch=steps_per_epoch,\n",
        "    epochs=5,\n",
        "\n",
        "    validation_data=valid_generator,\n",
        "    validation_steps=val\n",
        ").history\n",
        "\n",
        "\n",
        "\n",
        "model.save('yellow2.model')\n"
      ],
      "execution_count": null,
      "outputs": [
        {
          "output_type": "stream",
          "text": [
            "/content/data2/train\n",
            "Found 4800 images belonging to 25 classes.\n",
            "Found 19200 images belonging to 25 classes.\n",
            "Model: \"sequential_15\"\n",
            "_________________________________________________________________\n",
            "Layer (type)                 Output Shape              Param #   \n",
            "=================================================================\n",
            "conv2d_53 (Conv2D)           (None, 55, 55, 96)        34944     \n",
            "_________________________________________________________________\n",
            "max_pooling2d_45 (MaxPooling (None, 27, 27, 96)        0         \n",
            "_________________________________________________________________\n",
            "conv2d_54 (Conv2D)           (None, 27, 27, 256)       614656    \n",
            "_________________________________________________________________\n",
            "max_pooling2d_46 (MaxPooling (None, 13, 13, 256)       0         \n",
            "_________________________________________________________________\n",
            "conv2d_55 (Conv2D)           (None, 13, 13, 384)       885120    \n",
            "_________________________________________________________________\n",
            "conv2d_56 (Conv2D)           (None, 13, 13, 384)       1327488   \n",
            "_________________________________________________________________\n",
            "conv2d_57 (Conv2D)           (None, 13, 13, 256)       884992    \n",
            "_________________________________________________________________\n",
            "max_pooling2d_47 (MaxPooling (None, 6, 6, 256)         0         \n",
            "_________________________________________________________________\n",
            "flatten_15 (Flatten)         (None, 9216)              0         \n",
            "_________________________________________________________________\n",
            "dense_38 (Dense)             (None, 9216)              84943872  \n",
            "_________________________________________________________________\n",
            "dense_39 (Dense)             (None, 4096)              37752832  \n",
            "_________________________________________________________________\n",
            "dense_40 (Dense)             (None, 4096)              16781312  \n",
            "_________________________________________________________________\n",
            "dense_41 (Dense)             (None, 25)                102425    \n",
            "=================================================================\n",
            "Total params: 143,327,641\n",
            "Trainable params: 143,327,641\n",
            "Non-trainable params: 0\n",
            "_________________________________________________________________\n",
            "Epoch 1/5\n",
            "600/600 [==============================] - 118s 197ms/step - loss: 0.5409 - accuracy: 0.8443 - val_loss: 0.1644 - val_accuracy: 0.9619\n",
            "Epoch 2/5\n",
            "600/600 [==============================] - 119s 198ms/step - loss: 0.0840 - accuracy: 0.9801 - val_loss: 0.1275 - val_accuracy: 0.9844\n",
            "Epoch 3/5\n",
            "600/600 [==============================] - 119s 198ms/step - loss: 0.0482 - accuracy: 0.9887 - val_loss: 0.0874 - val_accuracy: 0.9817\n",
            "Epoch 4/5\n",
            "600/600 [==============================] - 118s 197ms/step - loss: 0.0706 - accuracy: 0.9869 - val_loss: 0.0919 - val_accuracy: 0.9871\n",
            "Epoch 5/5\n",
            "600/600 [==============================] - 119s 199ms/step - loss: 0.0296 - accuracy: 0.9945 - val_loss: 0.0765 - val_accuracy: 0.9875\n",
            "WARNING:tensorflow:From /usr/local/lib/python3.6/dist-packages/tensorflow/python/ops/resource_variable_ops.py:1817: calling BaseResourceVariable.__init__ (from tensorflow.python.ops.resource_variable_ops) with constraint is deprecated and will be removed in a future version.\n",
            "Instructions for updating:\n",
            "If using Keras pass *_constraint arguments to layers.\n",
            "INFO:tensorflow:Assets written to: yellow2.model/assets\n"
          ],
          "name": "stdout"
        }
      ]
    },
    {
      "cell_type": "markdown",
      "metadata": {
        "id": "2NgaggyPueMm",
        "colab_type": "text"
      },
      "source": [
        "time:7min52secs for 5 epochs\n",
        "\n",
        "time: 15min28sec for 10 epochs"
      ]
    },
    {
      "cell_type": "code",
      "metadata": {
        "id": "YHhVoSIdtUuk",
        "colab_type": "code",
        "colab": {}
      },
      "source": [
        "data_root='/content/data2/test'\n",
        "IMAGE_SHAPE = (227, 227)\n",
        "TRAINING_DATA_DIR = str(data_root)\n",
        "\n",
        "train_datagen = tf.keras.preprocessing.image.ImageDataGenerator()\n",
        "val_data_gen = train_datagen.flow_from_directory(\n",
        "TRAINING_DATA_DIR,\n",
        "shuffle=True,\n",
        "target_size=IMAGE_SHAPE,\n",
        "class_mode='binary')\n",
        "scores = model.evaluate_generator(val_data_gen,500) #1514 testing images\n",
        "print(\"Accuracy = \", scores[1])"
      ],
      "execution_count": null,
      "outputs": []
    },
    {
      "cell_type": "code",
      "metadata": {
        "id": "GL0k4KdJtpsl",
        "colab_type": "code",
        "colab": {
          "base_uri": "https://localhost:8080/",
          "height": 573
        },
        "outputId": "5b8e5a58-1f0b-4aa9-d485-157c09dae440"
      },
      "source": [
        "import os\n",
        "import numpy as np\n",
        "import matplotlib.pyplot as plt\n",
        "\n",
        "plt.plot(model.history.history['accuracy'])\n",
        "plt.plot(model.history.history['val_accuracy'])\n",
        "plt.title('model accuracy')\n",
        "plt.ylabel('accuracy')\n",
        "plt.xlabel('epoch')\n",
        "plt.legend(['train', 'test'], loc='upper left')\n",
        "plt.show()\n",
        "# summarize history for loss\n",
        "plt.plot(model.history.history['loss'])\n",
        "plt.plot(model.history.history['val_loss'])\n",
        "plt.title('model loss')\n",
        "plt.ylabel('loss')\n",
        "plt.xlabel('epoch')\n",
        "plt.legend(['train', 'test'], loc='upper left')\n",
        "plt.show()"
      ],
      "execution_count": null,
      "outputs": [
        {
          "output_type": "display_data",
          "data": {
            "image/png": "[encoded data removed]",
            "text/plain": [
              "<Figure size 432x288 with 1 Axes>"
            ]
          },
          "metadata": {
            "tags": []
          }
        },
        {
          "output_type": "display_data",
          "data": {
            "image/png": "[encoded data removed]",
            "text/plain": [
              "<Figure size 432x288 with 1 Axes>"
            ]
          },
          "metadata": {
            "tags": []
          }
        }
      ]
    }
  ]
}